{
 "cells": [
  {
   "cell_type": "code",
   "execution_count": 2,
   "metadata": {},
   "outputs": [],
   "source": [
    "#Load Start Dataframe\n",
    "import pandas as pd\n",
    "\n",
    "def loadStartDF():\n",
    "    df = pd.read_csv(r'startingdf.csv')\n",
    "    return df\n",
    "\n",
    "df = loadStartDF()"
   ]
  },
  {
   "cell_type": "code",
   "execution_count": null,
   "metadata": {},
   "outputs": [],
   "source": [
    "#Save Session\n",
    "import pandas as pd\n",
    "\n",
    "def saveSession():\n",
    "    df.to_csv(r'session.csv')\n",
    "\n",
    "saveSession()"
   ]
  },
  {
   "cell_type": "code",
   "execution_count": 1,
   "metadata": {},
   "outputs": [],
   "source": [
    "#Load Session\n",
    "import pandas as pd\n",
    "\n",
    "def loadSession():\n",
    "    df = pd.read_csv(r'session.csv')\n",
    "\n",
    "loadSession()"
   ]
  },
  {
   "cell_type": "code",
   "execution_count": null,
   "metadata": {},
   "outputs": [],
   "source": [
    "#Save Custom Session\n",
    "import pandas as pd\n",
    "\n",
    "def saveCustomSession():\n",
    "    df.to_csv(r'' + input(\"Please input name of session (no file extension required)\") + '.csv')\n",
    "\n",
    "saveCustomSession()"
   ]
  },
  {
   "cell_type": "code",
   "execution_count": null,
   "metadata": {},
   "outputs": [],
   "source": [
    "#Load Custom Session\n",
    "import pandas as pd\n",
    "\n",
    "def loadCustomSession():\n",
    "    df = pd.read_csv(r'' + input(\"Please input name of session (no file extension required)\") + '.csv')\n",
    "\n",
    "loadCustomSession()"
   ]
  },
  {
   "cell_type": "code",
   "execution_count": 4,
   "metadata": {},
   "outputs": [
    {
     "data": {
      "text/html": [
       "<div>\n",
       "<style scoped>\n",
       "    .dataframe tbody tr th:only-of-type {\n",
       "        vertical-align: middle;\n",
       "    }\n",
       "\n",
       "    .dataframe tbody tr th {\n",
       "        vertical-align: top;\n",
       "    }\n",
       "\n",
       "    .dataframe thead th {\n",
       "        text-align: right;\n",
       "    }\n",
       "</style>\n",
       "<table border=\"1\" class=\"dataframe\">\n",
       "  <thead>\n",
       "    <tr style=\"text-align: right;\">\n",
       "      <th></th>\n",
       "      <th>SUBJECT</th>\n",
       "      <th>TOPIC</th>\n",
       "      <th>TIMES STUDIED</th>\n",
       "      <th>AVG PERFORMANCE</th>\n",
       "      <th>WEIGHT MOD</th>\n",
       "      <th>WEIGHT</th>\n",
       "    </tr>\n",
       "  </thead>\n",
       "  <tbody>\n",
       "    <tr>\n",
       "      <th>0</th>\n",
       "      <td>Pure M.</td>\n",
       "      <td>Quadratics</td>\n",
       "      <td>0</td>\n",
       "      <td>0.5</td>\n",
       "      <td>1.0</td>\n",
       "      <td>2.0</td>\n",
       "    </tr>\n",
       "    <tr>\n",
       "      <th>1</th>\n",
       "      <td>Pure M.</td>\n",
       "      <td>Functions</td>\n",
       "      <td>0</td>\n",
       "      <td>0.5</td>\n",
       "      <td>1.0</td>\n",
       "      <td>2.0</td>\n",
       "    </tr>\n",
       "    <tr>\n",
       "      <th>2</th>\n",
       "      <td>Pure M.</td>\n",
       "      <td>Coord. Geometry</td>\n",
       "      <td>0</td>\n",
       "      <td>0.5</td>\n",
       "      <td>1.0</td>\n",
       "      <td>2.0</td>\n",
       "    </tr>\n",
       "    <tr>\n",
       "      <th>3</th>\n",
       "      <td>Pure M.</td>\n",
       "      <td>Circular Measure</td>\n",
       "      <td>0</td>\n",
       "      <td>0.5</td>\n",
       "      <td>1.0</td>\n",
       "      <td>2.0</td>\n",
       "    </tr>\n",
       "    <tr>\n",
       "      <th>4</th>\n",
       "      <td>Pure M.</td>\n",
       "      <td>Trigonometry</td>\n",
       "      <td>0</td>\n",
       "      <td>0.5</td>\n",
       "      <td>1.2</td>\n",
       "      <td>2.4</td>\n",
       "    </tr>\n",
       "  </tbody>\n",
       "</table>\n",
       "</div>"
      ],
      "text/plain": [
       "   SUBJECT             TOPIC  TIMES STUDIED  AVG PERFORMANCE  WEIGHT MOD  \\\n",
       "0  Pure M.        Quadratics              0              0.5         1.0   \n",
       "1  Pure M.         Functions              0              0.5         1.0   \n",
       "2  Pure M.   Coord. Geometry              0              0.5         1.0   \n",
       "3  Pure M.  Circular Measure              0              0.5         1.0   \n",
       "4  Pure M.      Trigonometry              0              0.5         1.2   \n",
       "\n",
       "   WEIGHT  \n",
       "0     2.0  \n",
       "1     2.0  \n",
       "2     2.0  \n",
       "3     2.0  \n",
       "4     2.4  "
      ]
     },
     "execution_count": 4,
     "metadata": {},
     "output_type": "execute_result"
    }
   ],
   "source": [
    "#Calculate Weight\n",
    "import pandas as pd\n",
    "\n",
    "def calcWeight(df):\n",
    "    for i in range(len(df)):\n",
    "        df.loc[i, \"WEIGHT\"] = df.loc[i, \"WEIGHT MOD\"] / (df.loc[i, \"AVG PERFORMANCE\"] * (df.loc[i, \"TIMES STUDIED\"] + 1))\n",
    "    return df\n",
    "\n",
    "df = calcWeight(df)\n",
    "df.head()"
   ]
  },
  {
   "cell_type": "code",
   "execution_count": 3,
   "metadata": {},
   "outputs": [
    {
     "name": "stderr",
     "output_type": "stream",
     "text": [
      " 70%|███████   | 217/310 [00:00<00:00, 18082.85it/s]"
     ]
    },
    {
     "name": "stdout",
     "output_type": "stream",
     "text": [
      "Picked a choice; [25]\n"
     ]
    },
    {
     "name": "stderr",
     "output_type": "stream",
     "text": [
      "100%|██████████| 310/310 [00:35<00:00,  8.72it/s]   "
     ]
    },
    {
     "name": "stdout",
     "output_type": "stream",
     "text": [
      "Recalculated Performance\n",
      "Set as Studied\n",
      "Exited function\n"
     ]
    },
    {
     "name": "stderr",
     "output_type": "stream",
     "text": [
      "\n"
     ]
    },
    {
     "data": {
      "text/html": [
       "<div>\n",
       "<style scoped>\n",
       "    .dataframe tbody tr th:only-of-type {\n",
       "        vertical-align: middle;\n",
       "    }\n",
       "\n",
       "    .dataframe tbody tr th {\n",
       "        vertical-align: top;\n",
       "    }\n",
       "\n",
       "    .dataframe thead th {\n",
       "        text-align: right;\n",
       "    }\n",
       "</style>\n",
       "<table border=\"1\" class=\"dataframe\">\n",
       "  <thead>\n",
       "    <tr style=\"text-align: right;\">\n",
       "      <th></th>\n",
       "      <th>SUBJECT</th>\n",
       "      <th>TOPIC</th>\n",
       "      <th>TIMES STUDIED</th>\n",
       "      <th>AVG PERFORMANCE</th>\n",
       "      <th>WEIGHT MOD</th>\n",
       "      <th>WEIGHT</th>\n",
       "    </tr>\n",
       "  </thead>\n",
       "  <tbody>\n",
       "    <tr>\n",
       "      <th>0</th>\n",
       "      <td>Pure M.</td>\n",
       "      <td>Quadratics</td>\n",
       "      <td>0</td>\n",
       "      <td>0.5</td>\n",
       "      <td>1.0</td>\n",
       "      <td>2.0</td>\n",
       "    </tr>\n",
       "    <tr>\n",
       "      <th>1</th>\n",
       "      <td>Pure M.</td>\n",
       "      <td>Functions</td>\n",
       "      <td>0</td>\n",
       "      <td>0.5</td>\n",
       "      <td>1.0</td>\n",
       "      <td>2.0</td>\n",
       "    </tr>\n",
       "    <tr>\n",
       "      <th>2</th>\n",
       "      <td>Pure M.</td>\n",
       "      <td>Coord. Geometry</td>\n",
       "      <td>0</td>\n",
       "      <td>0.5</td>\n",
       "      <td>1.0</td>\n",
       "      <td>2.0</td>\n",
       "    </tr>\n",
       "    <tr>\n",
       "      <th>3</th>\n",
       "      <td>Pure M.</td>\n",
       "      <td>Circular Measure</td>\n",
       "      <td>0</td>\n",
       "      <td>0.5</td>\n",
       "      <td>1.0</td>\n",
       "      <td>2.0</td>\n",
       "    </tr>\n",
       "    <tr>\n",
       "      <th>4</th>\n",
       "      <td>Pure M.</td>\n",
       "      <td>Trigonometry</td>\n",
       "      <td>0</td>\n",
       "      <td>0.5</td>\n",
       "      <td>1.2</td>\n",
       "      <td>2.4</td>\n",
       "    </tr>\n",
       "  </tbody>\n",
       "</table>\n",
       "</div>"
      ],
      "text/plain": [
       "   SUBJECT             TOPIC  TIMES STUDIED  AVG PERFORMANCE  WEIGHT MOD  \\\n",
       "0  Pure M.        Quadratics              0              0.5         1.0   \n",
       "1  Pure M.         Functions              0              0.5         1.0   \n",
       "2  Pure M.   Coord. Geometry              0              0.5         1.0   \n",
       "3  Pure M.  Circular Measure              0              0.5         1.0   \n",
       "4  Pure M.      Trigonometry              0              0.5         1.2   \n",
       "\n",
       "   WEIGHT  \n",
       "0     2.0  \n",
       "1     2.0  \n",
       "2     2.0  \n",
       "3     2.0  \n",
       "4     2.4  "
      ]
     },
     "execution_count": 3,
     "metadata": {},
     "output_type": "execute_result"
    }
   ],
   "source": [
    "#Pick Random\n",
    "import pandas as pd\n",
    "import random\n",
    "from tqdm import tqdm\n",
    "def pickRandom(df):\n",
    "    p_bar = tqdm(range(len(df) * 7 + len(df) * 3))\n",
    "    population = []\n",
    "    weights = []\n",
    "    for i in range(len(df)):\n",
    "        population.append(i)\n",
    "        p_bar.update(7)\n",
    "        p_bar.refresh()\n",
    "        weights.append(df.loc[i, \"WEIGHT\"])\n",
    "    pick = random.choices(population,  weights)\n",
    "    print(\"Picked a choice;\", pick)\n",
    "    flag = True\n",
    "    while flag:\n",
    "        p_bar\n",
    "        studied = input(\"Set \" + str(pick) + \" as studied? \\n[y/n]\\n\")\n",
    "        if studied in [\"Y\", \"y\"]:\n",
    "            confidence = float(input(\"between 0 & 1; how confident are you?\"))\n",
    "            p_bar.update(len(df))\n",
    "            p_bar.refresh()\n",
    "            df.loc[pick, \"AVG PERFORMANCE\"] = (df.loc[pick, \"AVG PERFORMANCE\"] + confidence) * (df.loc[pick, \"TIMES STUDIED\"] + 1)/ (df.loc[pick, \"TIMES STUDIED\"] + 2)\n",
    "            print(\"Recalculated Performance\")\n",
    "            p_bar.update(len(df))\n",
    "            p_bar.refresh()\n",
    "            df.loc[pick, \"TIMES STUDIED\"] += 1\n",
    "            print(\"Set as Studied\")\n",
    "            flag = False\n",
    "        elif studied in [\"N\", \"n\"]:\n",
    "            flag = False\n",
    "        else:\n",
    "            print(\"Invalid Input\")\n",
    "    p_bar.update(len(df))\n",
    "    p_bar.refresh()\n",
    "    print(\"Exited function\")\n",
    "    return df\n",
    "\n",
    "\n",
    "df = pickRandom(df)\n",
    "df.head()"
   ]
  },
  {
   "cell_type": "code",
   "execution_count": null,
   "metadata": {},
   "outputs": [],
   "source": [
    "#Subtract Time Studied\n",
    "import pandas as pd\n",
    "\n",
    "def subtractTimeStudied(df):\n",
    "    pick = input(\"Input the row to be subtracted:\\n\")\n",
    "    df.loc[pick, \"TIMES STUDIED\"] -= 1\n",
    "    return df\n",
    "\n",
    "df = subtractTimeStudied(df)\n",
    "df.head()"
   ]
  },
  {
   "cell_type": "code",
   "execution_count": null,
   "metadata": {},
   "outputs": [],
   "source": [
    "#Reset Average Performance\n",
    "\n",
    "import pandas as pd\n",
    "\n",
    "\n",
    "def resetAvgPerformance(df):\n",
    "    pick = int(input(\"Which subject would you like to reset performance for? (Input a number)\"))\n",
    "    df.loc[pick, \"AVG PERFORMANCE\"] = 0.5\n",
    "    print(\"Set\", pick, \"to default\")\n",
    "    return df\n",
    "\n",
    "df = resetAvgPerformance(df)\n",
    "df.head"
   ]
  },
  {
   "cell_type": "code",
   "execution_count": null,
   "metadata": {},
   "outputs": [
    {
     "ename": "SyntaxError",
     "evalue": "incomplete input (81660374.py, line 12)",
     "output_type": "error",
     "traceback": [
      "\u001b[1;36m  Cell \u001b[1;32mIn[1], line 12\u001b[1;36m\u001b[0m\n\u001b[1;33m    else:\u001b[0m\n\u001b[1;37m         ^\u001b[0m\n\u001b[1;31mSyntaxError\u001b[0m\u001b[1;31m:\u001b[0m incomplete input\n"
     ]
    }
   ],
   "source": [
    "#Reset All Subjects\n",
    "\n",
    "import pandas as pd\n",
    "\n",
    "def resetSubjects(df):\n",
    "    confirm = input(\"Confirm reset? (Y/N)\")\n",
    "    if confirm in [\"y\", \"Y\"]:\n",
    "        for i in range(len(df)):\n",
    "            df.loc[i, \"AVG PERFORMANCE\"] = 0.5\n",
    "            df.loc[i, \"TIMES STUDIED\"] = 0\n",
    "            print(\"Reset Values\")\n",
    "    else:\n",
    "        print(\"Cancelled operation\")\n",
    "    print(\"Function Exited\")\n",
    "    return df\n",
    "\n",
    "df = resetSubjects(df)\n",
    "df.head"
   ]
  },
  {
   "cell_type": "code",
   "execution_count": null,
   "metadata": {},
   "outputs": [],
   "source": []
  }
 ],
 "metadata": {
  "kernelspec": {
   "display_name": "Python 3",
   "language": "python",
   "name": "python3"
  },
  "language_info": {
   "codemirror_mode": {
    "name": "ipython",
    "version": 3
   },
   "file_extension": ".py",
   "mimetype": "text/x-python",
   "name": "python",
   "nbconvert_exporter": "python",
   "pygments_lexer": "ipython3",
   "version": "3.12.8"
  }
 },
 "nbformat": 4,
 "nbformat_minor": 2
}
