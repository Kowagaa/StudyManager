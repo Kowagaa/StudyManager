{
 "cells": [
  {
   "cell_type": "code",
   "execution_count": 2,
   "metadata": {},
   "outputs": [],
   "source": [
    "#Load Start Dataframe\n",
    "import pandas as pd\n",
    "\n",
    "def loadStartDF():\n",
    "    df = pd.read_csv(r'startingdf.csv')\n",
    "    return df\n",
    "\n",
    "df = loadStartDF()"
   ]
  },
  {
   "cell_type": "code",
   "execution_count": null,
   "metadata": {},
   "outputs": [],
   "source": [
    "#Save Session\n",
    "import dill\n",
    "\n",
    "def saveSession():\n",
    "    dill.dump_session('session.db')\n",
    "\n",
    "saveSession()"
   ]
  },
  {
   "cell_type": "code",
   "execution_count": null,
   "metadata": {},
   "outputs": [],
   "source": [
    "#Load Session\n",
    "import dill\n",
    "\n",
    "def loadSession():\n",
    "    dill.dump_session('session.db')\n",
    "\n",
    "loadSession()"
   ]
  },
  {
   "cell_type": "code",
   "execution_count": 8,
   "metadata": {},
   "outputs": [],
   "source": [
    "#Save Custom Session\n",
    "import dill\n",
    "\n",
    "def saveCustomSession():\n",
    "    dill.dump_session(input(\"Please input name of session (no file extension required)\") + '.db')\n",
    "\n",
    "saveCustomSession()"
   ]
  },
  {
   "cell_type": "code",
   "execution_count": null,
   "metadata": {},
   "outputs": [],
   "source": [
    "#Load Custom Session\n",
    "import dill\n",
    "\n",
    "def loadCustomSession():\n",
    "    dill.load_session(input(\"Please input name of session (no file extension required)\") + '.db')\n",
    "\n",
    "loadCustomSession()"
   ]
  },
  {
   "cell_type": "code",
   "execution_count": null,
   "metadata": {},
   "outputs": [],
   "source": [
    "#Calculate Weight\n",
    "import pandas as pd\n",
    "\n",
    "def calcWeight(df):\n",
    "    for i in range(len(df)):\n",
    "        df.loc[i, \"WEIGHT\"] = df.loc[i, \"WEIGHT MOD\"] / (df.loc[i, \"AVG PERFORMANCE\"] * (df.loc[i, \"TIMES STUDIED\"] + 1))\n",
    "    return df\n",
    "\n",
    "df = calcWeight(df)\n",
    "df.head()"
   ]
  },
  {
   "cell_type": "code",
   "execution_count": null,
   "metadata": {},
   "outputs": [],
   "source": [
    "#Pick Random\n",
    "import pandas as pd\n",
    "import random\n",
    "from tqdm import tqdm\n",
    "def pickRandom(df):\n",
    "    p_bar = tqdm(range(len(df) * 7 + len(df) * 3))\n",
    "    population = []\n",
    "    weights = []\n",
    "    for i in range(len(df)):\n",
    "        population.append(i)\n",
    "        p_bar.update(7)\n",
    "        p_bar.refresh()\n",
    "        weights.append(df.loc[i, \"WEIGHT\"])\n",
    "    pick = random.choices(population,  weights)\n",
    "    print(\"Picked a choice;\", pick)\n",
    "    flag = True\n",
    "    while flag:\n",
    "        p_bar\n",
    "        studied = input(\"Set \" + str(pick) + \" as studied? \\n[y/n]\\n\")\n",
    "        if studied in [\"Y\", \"y\"]:\n",
    "            confidence = float(input(\"between 0 & 1; how confident are you?\"))\n",
    "            p_bar.update(len(df))\n",
    "            p_bar.refresh()\n",
    "            df.loc[pick, \"AVG PERFORMANCE\"] = (df.loc[pick, \"AVG PERFORMANCE\"] + confidence) * (df.loc[pick, \"TIMES STUDIED\"] + 1)/ (df.loc[pick, \"TIMES STUDIED\"] + 2)\n",
    "            print(\"Recalculated Performance\")\n",
    "            p_bar.update(len(df))\n",
    "            p_bar.refresh()\n",
    "            df.loc[pick, \"TIMES STUDIED\"] += 1\n",
    "            print(\"Set as Studied\")\n",
    "            flag = False\n",
    "        elif studied in [\"N\", \"n\"]:\n",
    "            flag = False\n",
    "        else:\n",
    "            print(\"Invalid Input\")\n",
    "    p_bar.update(len(df))\n",
    "    p_bar.refresh()\n",
    "    print(\"Exited function\")\n",
    "    return df\n",
    "\n",
    "\n",
    "df = pickRandom(df)\n",
    "df.head()"
   ]
  },
  {
   "cell_type": "code",
   "execution_count": null,
   "metadata": {},
   "outputs": [],
   "source": [
    "#Subtract Time Studied\n",
    "import pandas as pd\n",
    "\n",
    "def subtractTimeStudied(df):\n",
    "    pick = input(\"Input the row to be subtracted:\\n\")\n",
    "    df.loc[pick, \"TIMES STUDIED\"] -= 1\n",
    "    return df\n",
    "\n",
    "df = subtractTimeStudied(df)\n",
    "df.head()"
   ]
  }
 ],
 "metadata": {
  "kernelspec": {
   "display_name": "Python 3",
   "language": "python",
   "name": "python3"
  },
  "language_info": {
   "codemirror_mode": {
    "name": "ipython",
    "version": 3
   },
   "file_extension": ".py",
   "mimetype": "text/x-python",
   "name": "python",
   "nbconvert_exporter": "python",
   "pygments_lexer": "ipython3",
   "version": "3.12.0"
  }
 },
 "nbformat": 4,
 "nbformat_minor": 2
}
